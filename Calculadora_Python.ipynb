{
  "nbformat": 4,
  "nbformat_minor": 0,
  "metadata": {
    "colab": {
      "name": "Calculadora Python.ipynb",
      "provenance": [],
      "collapsed_sections": []
    },
    "kernelspec": {
      "name": "python3",
      "display_name": "Python 3"
    },
    "language_info": {
      "name": "python"
    }
  },
  "cells": [
    {
      "cell_type": "code",
      "source": [
        "# CALCULADORA EM PYTHON\n",
        "\n",
        "# ENTRADA DOS NÚMEROS\n",
        "\n",
        "primeiro_numero = float(input('DIGITE O PRIMEIRO NÚMERO:'))\n",
        "segundo_numero =  float(input('DIGITE O SEGUNDO NÚMERO:'))\n",
        "\n",
        "# OPERAÇÕES ARITMÉTICAS\n",
        "\n",
        "soma = primeiro_numero + segundo_numero\n",
        "subtracao = primeiro_numero - segundo_numero\n",
        "multiplicacao = primeiro_numero * segundo_numero\n",
        "divisao = primeiro_numero / segundo_numero"
      ],
      "metadata": {
        "colab": {
          "base_uri": "https://localhost:8080/"
        },
        "id": "AhqXamJlqn1i",
        "outputId": "5a1fea3e-f70e-4d09-e330-b49a638b6370"
      },
      "execution_count": null,
      "outputs": [
        {
          "name": "stdout",
          "output_type": "stream",
          "text": [
            "DIGITE O PRIMEIRO NÚMERO:50\n",
            "DIGITE O SEGUNDO NÚMERO:50\n"
          ]
        }
      ]
    },
    {
      "cell_type": "code",
      "source": [
        "print ('O RESULTADO DA SOMA É:', soma)\n",
        "print ('O RESULTADO DA SUBTRAÇÃO É:', subtracao)\n",
        "print ('O RESULTADO DA MULTIPLICAÇÃO É:', multiplicacao)\n",
        "print ('O RESULTADO DA DIVISÃO É:', divisao)"
      ],
      "metadata": {
        "colab": {
          "base_uri": "https://localhost:8080/"
        },
        "id": "FrhPk4DFsTFW",
        "outputId": "1b406b55-fb8b-4204-907c-0f46ef7150d2"
      },
      "execution_count": 16,
      "outputs": [
        {
          "output_type": "stream",
          "name": "stdout",
          "text": [
            "O RESULTADO DA SOMA É: 100.0\n",
            "O RESULTADO DA SUBTRAÇÃO É: 0.0\n",
            "O RESULTADO DA MULTIPLICAÇÃO É: 2500.0\n",
            "O RESULTADO DA DIVISÃO É: 1.0\n"
          ]
        }
      ]
    }
  ]
}