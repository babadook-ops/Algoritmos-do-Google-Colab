{
  "nbformat": 4,
  "nbformat_minor": 0,
  "metadata": {
    "colab": {
      "name": "Lista de Animais.ipynb",
      "provenance": []
    },
    "kernelspec": {
      "name": "python3",
      "display_name": "Python 3"
    },
    "language_info": {
      "name": "python"
    }
  },
  "cells": [
    {
      "cell_type": "code",
      "execution_count": 1,
      "metadata": {
        "id": "w28KiR0yvDqT"
      },
      "outputs": [],
      "source": [
        "# LISTAS EM PYTHON\n",
        "\n",
        "animais = ['Cachorro' , 'Gato' , 'Coelho']\n",
        "#POSIÇÕES      1           2         3\n",
        "#ÍNDICES       0           1         2"
      ]
    },
    {
      "cell_type": "code",
      "source": [
        "print ('O Pluto é um', animais[0])\n",
        "print ('O Obi-Wan é um', animais[1])\n",
        "print ('O Júpiter é um', animais[2])"
      ],
      "metadata": {
        "colab": {
          "base_uri": "https://localhost:8080/"
        },
        "id": "O02ApPavvv7I",
        "outputId": "8ac23f93-2d0c-4992-f317-986228ef080b"
      },
      "execution_count": 7,
      "outputs": [
        {
          "output_type": "stream",
          "name": "stdout",
          "text": [
            "O Pluto é um Cachorro\n",
            "O Obi-Wan é um Gato\n",
            "O Júpiter é um Coelho\n"
          ]
        }
      ]
    }
  ]
}